{
 "cells": [
  {
   "cell_type": "markdown",
   "metadata": {
    "id": "rLDIfa6ufFtv"
   },
   "source": [
    "**Setup Enviroment** "
   ]
  },
  {
   "cell_type": "code",
   "execution_count": 2,
   "metadata": {
    "id": "xPXreGFIWYi7"
   },
   "outputs": [],
   "source": [
    "import numpy as np\n",
    "import os\n",
    "import pandas as pd\n",
    "\n",
    "import transformers\n",
    "from transformers import AutoTokenizer, AutoModelForTokenClassification,XLMRobertaTokenizer\n",
    "import matplotlib.pyplot as plt\n",
    "from sklearn.metrics import plot_confusion_matrix\n",
    "from sklearn.model_selection import train_test_split\n",
    "from sklearn.metrics import classification_report\n",
    "import torch\n",
    "import torch.nn as nn\n",
    "# specify GPU\n",
    "device = torch.device(\"cuda\")\n"
   ]
  },
  {
   "cell_type": "markdown",
   "metadata": {
    "id": "7GpG1zSCfcOm"
   },
   "source": [
    "**Load Data**\n"
   ]
  },
  {
   "cell_type": "code",
   "execution_count": 3,
   "metadata": {
    "colab": {
     "base_uri": "https://localhost:8080/",
     "height": 363
    },
    "executionInfo": {
     "elapsed": 2122,
     "status": "ok",
     "timestamp": 1673167506210,
     "user": {
      "displayName": "Menbere Hailu",
      "userId": "16825273063750690872"
     },
     "user_tz": 300
    },
    "id": "ItLfXw0wfk_j",
    "outputId": "6893688f-ed67-4def-9e92-626d0a4a87ec"
   },
   "outputs": [
    {
     "data": {
      "text/html": [
       "<div>\n",
       "<style scoped>\n",
       "    .dataframe tbody tr th:only-of-type {\n",
       "        vertical-align: middle;\n",
       "    }\n",
       "\n",
       "    .dataframe tbody tr th {\n",
       "        vertical-align: top;\n",
       "    }\n",
       "\n",
       "    .dataframe thead th {\n",
       "        text-align: right;\n",
       "    }\n",
       "</style>\n",
       "<table border=\"1\" class=\"dataframe\">\n",
       "  <thead>\n",
       "    <tr style=\"text-align: right;\">\n",
       "      <th></th>\n",
       "      <th>Actual_Post</th>\n",
       "      <th>Label</th>\n",
       "    </tr>\n",
       "  </thead>\n",
       "  <tbody>\n",
       "    <tr>\n",
       "      <th>0</th>\n",
       "      <td>መንግስት ከልምድ ተመሮ ምንም ጥቅምና አትኩሮት የሌለውን መግለጫ በመግለጫ...</td>\n",
       "      <td>Fake</td>\n",
       "    </tr>\n",
       "    <tr>\n",
       "      <th>1</th>\n",
       "      <td>ወይ ጉድ! ስለ ዜግነት በቅጡ ሳይረዱ ዜግነት ሰጪና ከልካይ የፖለቲካ መሪ...</td>\n",
       "      <td>Fake</td>\n",
       "    </tr>\n",
       "    <tr>\n",
       "      <th>2</th>\n",
       "      <td>አብሮነት በመከባበር ላይ የተመሰረተ መሆን አለበት። ኦሮሚያ ውስጥ የምትኖ...</td>\n",
       "      <td>Fake</td>\n",
       "    </tr>\n",
       "    <tr>\n",
       "      <th>3</th>\n",
       "      <td>እንኳን አሁን ወያኔም እያለ የህዝቦች ሁሉ ጠላት ነፍጠኛዉ ነው ብዬ ነበር...</td>\n",
       "      <td>Fake</td>\n",
       "    </tr>\n",
       "    <tr>\n",
       "      <th>4</th>\n",
       "      <td>እንደዚህ እንደዚያ የሚያረጉን \"ኃይሎች\" እያሉ መንግስት ነን ባዮች ችግሮ...</td>\n",
       "      <td>Fake</td>\n",
       "    </tr>\n",
       "    <tr>\n",
       "      <th>5</th>\n",
       "      <td>እሺ ሰላማዊና ሚዘናዊ ዉይይታችንን ስንቀጥል፡ እዉነት እነዚህ የዜግነት ፖ...</td>\n",
       "      <td>Fake</td>\n",
       "    </tr>\n",
       "    <tr>\n",
       "      <th>6</th>\n",
       "      <td>የአማራ ድርጅቶች አብሮ ለመስራት መግባባታቸው ለበጎ ከሆነ እሰየው ነዉ። ...</td>\n",
       "      <td>Fake</td>\n",
       "    </tr>\n",
       "    <tr>\n",
       "      <th>7</th>\n",
       "      <td>እስኪ እንደው እንኹዋን #OMN ቀርቶ ለሰው ልጆች ሰላም፡ ፍትህና እኩልነ...</td>\n",
       "      <td>Fake</td>\n",
       "    </tr>\n",
       "    <tr>\n",
       "      <th>8</th>\n",
       "      <td>አይ አብይ አህመድ! መቸም ያንተን ታሪክ በቅርቡ እናያለን። በዓመታት የኦ...</td>\n",
       "      <td>Fake</td>\n",
       "    </tr>\n",
       "    <tr>\n",
       "      <th>9</th>\n",
       "      <td>ጊዜ የማይለዉጣቹ ሞኞች፡ አላዋቂዎችና አስመሳዮች (ለምሳሌ ዋናወቹ ታማኝና...</td>\n",
       "      <td>Fake</td>\n",
       "    </tr>\n",
       "  </tbody>\n",
       "</table>\n",
       "</div>"
      ],
      "text/plain": [
       "                                         Actual_Post Label\n",
       "0  መንግስት ከልምድ ተመሮ ምንም ጥቅምና አትኩሮት የሌለውን መግለጫ በመግለጫ...  Fake\n",
       "1  ወይ ጉድ! ስለ ዜግነት በቅጡ ሳይረዱ ዜግነት ሰጪና ከልካይ የፖለቲካ መሪ...  Fake\n",
       "2  አብሮነት በመከባበር ላይ የተመሰረተ መሆን አለበት። ኦሮሚያ ውስጥ የምትኖ...  Fake\n",
       "3  እንኳን አሁን ወያኔም እያለ የህዝቦች ሁሉ ጠላት ነፍጠኛዉ ነው ብዬ ነበር...  Fake\n",
       "4  እንደዚህ እንደዚያ የሚያረጉን \"ኃይሎች\" እያሉ መንግስት ነን ባዮች ችግሮ...  Fake\n",
       "5  እሺ ሰላማዊና ሚዘናዊ ዉይይታችንን ስንቀጥል፡ እዉነት እነዚህ የዜግነት ፖ...  Fake\n",
       "6  የአማራ ድርጅቶች አብሮ ለመስራት መግባባታቸው ለበጎ ከሆነ እሰየው ነዉ። ...  Fake\n",
       "7  እስኪ እንደው እንኹዋን #OMN ቀርቶ ለሰው ልጆች ሰላም፡ ፍትህና እኩልነ...  Fake\n",
       "8  አይ አብይ አህመድ! መቸም ያንተን ታሪክ በቅርቡ እናያለን። በዓመታት የኦ...  Fake\n",
       "9  ጊዜ የማይለዉጣቹ ሞኞች፡ አላዋቂዎችና አስመሳዮች (ለምሳሌ ዋናወቹ ታማኝና...  Fake"
      ]
     },
     "execution_count": 3,
     "metadata": {},
     "output_type": "execute_result"
    }
   ],
   "source": [
    "data=pd.read_excel(\"Merged _Fakenews_Data.xlsx\")\n",
    "data.head(10)"
   ]
  },
  {
   "cell_type": "code",
   "execution_count": 4,
   "metadata": {
    "id": "kW3ojBGwgvE0"
   },
   "outputs": [],
   "source": [
    "import nltk\n",
    "import re"
   ]
  },
  {
   "cell_type": "code",
   "execution_count": 5,
   "metadata": {
    "id": "EjadPKBbgw4P"
   },
   "outputs": [],
   "source": [
    "space_pattern = '\\s+'\n",
    "url_regex = ('http[s]?://(?:[a-zA-Z]|[0-9]|[$-_@.&+]|''[!*\\(\\),]|(?:%[0-9a-fA-F][0-9a-fA-F]))+')\n",
    "englishword_num ='[a-zA-Z]|[0-9]+'\n",
    "AmhPunc='[፤።፡፣:,.?/()•“”*፨]+'\n",
    "special_char = \"[፥@#$%^&=?×!,;:_.(){}`'+*<>\\\"¤—„\\® ̄™¡¡\\x10»€«·‘0e1b§”¬¦...\"\"f÷\\~ ̈©±¥£¶–°• ̃’“|]\"\n",
    "geez_number='[፩፪፫፬፭፮፯፰፱፲፳፴፵፶፷፸፹፺፻] ' # for removing geez number\n",
    "RE_EMOJI = re.compile('[\\U00010000-\\U0010ffff]', flags=re.UNICODE)\n",
    "emoji_pattern = re.compile(\"[\"u\"\\U0001F600-\\U0001F64F\"  # emoticons\n",
    "                                 u\"\\U0001F300-\\U0001F5FF\"  # symbols & pictographs\n",
    "                                 u\"\\U0001F680-\\U0001F6FF\"  # transport & map symbols\n",
    "                                 u\"\\U0001F1E0-\\U0001F1FF\"  # flags \n",
    "                                 u\"\\U00002702-\\U000027B0\"\n",
    "                                 u\"\\U000024C2-\\U0001F251\"\n",
    "                                 \"]+\", flags=re.UNICODE)\n",
    "haa='[ሃ]'; he='[ሐ]'; hu='[ሑ]'; hi='[ሒ]'; ha='[ሓ]'; hie='[ሔ]'; h='[ሕ]'; ho='[ሖ]'; he1='[ኀ]'; hu1='[ኁ]'; hi1='[ኂ]'; ha1='[ኃ]'; hie1='[ኄ]'; h1='[ኅ]'; ho1='[ኆ]';\n",
    "se='[ሠ]'; su='[ሡ]'; si='[ሢ]'; sa='[ሣ]'; sie='[ሤ]'; s='[ሥ]'; so='[ሦ]'; \n",
    "aa1='[ኣ]'; ae='[ዐ]'; au='[ዑ]'; ai='[ዒ]'; aa='[ዓ]'; aie='[ዔ]'; e='[ዕ]'; ao='[ዖ]';\n",
    "tse='[ጸ]'; tsu='[ጹ]'; tsi='[ጺ]'; tsa='[ጻ]'; tsie='[ጼ]'; ts='[ጽ]'; tso='[ጾ]';"
   ]
  },
  {
   "cell_type": "code",
   "execution_count": 6,
   "metadata": {
    "id": "FMpZGougg_u6"
   },
   "outputs": [],
   "source": [
    "corpus=[]\n",
    "for i in range(0,len(data)):\n",
    "    Clean_text = re.sub(url_regex,'', str(data['Actual_Post'][i]))\n",
    "    Clean_text = re.sub(AmhPunc,' ',Clean_text)\n",
    "    Clean_text=re.sub(special_char,' ',Clean_text)\n",
    "    Clean_text= re.sub(englishword_num,'',Clean_text)\n",
    "    Clean_text= re.sub(r'(.)\\1+', r'\\1\\1',Clean_text) #removingelongation in text\n",
    "    Clean_text = RE_EMOJI.sub(r'', Clean_text)\n",
    "    Clean_text =re.sub(geez_number,'',Clean_text)\n",
    "    Clean_text=re.sub('-','',Clean_text)\n",
    "    Clean_text=re.sub(r'<[^>]*>','', Clean_text)\n",
    "    Clean_text = Clean_text.replace(\"\\\\\", \"\");\n",
    "    Clean_text = Clean_text.replace(\"[\", \"\");\n",
    "    Clean_text = Clean_text.replace(\"]\", \"\");\n",
    "    Clean_text = emoji_pattern.sub(r'', Clean_text)\n",
    "    Clean_text = re.sub(space_pattern,' ',Clean_text)\n",
    "    ##################################################\n",
    "    Clean_text= re.sub(he,'ሀ',Clean_text); \n",
    "    Clean_text= re.sub(hu,'ሁ',Clean_text);\n",
    "    Clean_text= re.sub(hi,'ሂ',Clean_text);\n",
    "    Clean_text= re.sub(ha,'ሀ',Clean_text); \n",
    "    Clean_text= re.sub(hie,'ሄ',Clean_text);\n",
    "    Clean_text= re.sub(h,'ህ',Clean_text);\n",
    "    Clean_text= re.sub(ho,'ሆ',Clean_text);\n",
    "    Clean_text= re.sub(haa,'ሀ',Clean_text);\n",
    "    #######################################################\n",
    "    Clean_text= re.sub(he1,'ሀ',Clean_text) \n",
    "    Clean_text= re.sub(hu1,'ሁ',Clean_text) \n",
    "    Clean_text= re.sub(hi1,'ሂ',Clean_text)\n",
    "    Clean_text= re.sub(ha1,'ሀ',Clean_text)\n",
    "    Clean_text= re.sub(hie1,'ሄ',Clean_text)\n",
    "    Clean_text= re.sub(h1,'ህ',Clean_text)\n",
    "    Clean_text= re.sub(ho1,'ሆ',Clean_text)\n",
    "    ##########################################################\n",
    "    Clean_text= re.sub(se,'ሰ',Clean_text) \n",
    "    Clean_text= re.sub(su,'ሱ',Clean_text)\n",
    "    Clean_text= re.sub(si,'ሲ',Clean_text)\n",
    "    Clean_text= re.sub(sa,'ሳ',Clean_text)\n",
    "    Clean_text= re.sub(sie,'ሴ',Clean_text) \n",
    "    Clean_text= re.sub(s,'ስ', Clean_text)\n",
    "    Clean_text= re.sub(so,'ሶ',Clean_text)\n",
    "    ###################################################\n",
    "    Clean_text= re.sub(ae,'አ',Clean_text) \n",
    "    Clean_text= re.sub(au,'ኡ',Clean_text)\n",
    "    Clean_text= re.sub(ai,'ኢ',Clean_text)\n",
    "    Clean_text= re.sub(aa,'አ',Clean_text) \n",
    "    Clean_text= re.sub(aie,'ኤ',Clean_text)\n",
    "    Clean_text= re.sub(e,'እ',Clean_text)\n",
    "    Clean_text= re.sub(ao,'ኦ',Clean_text)\n",
    "    Clean_text= re.sub(aa1,'አ',Clean_text)\n",
    "    #############################################\n",
    "    Clean_text= re.sub(tse,'ፀ',Clean_text) \n",
    "    Clean_text= re.sub(tsu,'ፁ',Clean_text) \n",
    "    Clean_text= re.sub(tsi,'ፂ',Clean_text)\n",
    "    Clean_text= re.sub(tsa,'ፃ',Clean_text) \n",
    "    Clean_text= re.sub(tsie,'ፄ',Clean_text)\n",
    "    Clean_text= re.sub(ts,'ፅ',Clean_text)\n",
    "    Clean_text= re.sub(tso,'ፆ',Clean_text)\n",
    "    Clean_text= Clean_text.split()\n",
    "    Clean_text = ' '.join(Clean_text)\n",
    "    corpus.append(Clean_text)"
   ]
  },
  {
   "cell_type": "code",
   "execution_count": 7,
   "metadata": {
    "colab": {
     "base_uri": "https://localhost:8080/",
     "height": 363
    },
    "executionInfo": {
     "elapsed": 477,
     "status": "ok",
     "timestamp": 1673167726488,
     "user": {
      "displayName": "Menbere Hailu",
      "userId": "16825273063750690872"
     },
     "user_tz": 300
    },
    "id": "UT8QOsBriYux",
    "outputId": "b0dc871d-50d6-4323-ce6d-1abe077d08a5"
   },
   "outputs": [
    {
     "data": {
      "text/html": [
       "<div>\n",
       "<style scoped>\n",
       "    .dataframe tbody tr th:only-of-type {\n",
       "        vertical-align: middle;\n",
       "    }\n",
       "\n",
       "    .dataframe tbody tr th {\n",
       "        vertical-align: top;\n",
       "    }\n",
       "\n",
       "    .dataframe thead th {\n",
       "        text-align: right;\n",
       "    }\n",
       "</style>\n",
       "<table border=\"1\" class=\"dataframe\">\n",
       "  <thead>\n",
       "    <tr style=\"text-align: right;\">\n",
       "      <th></th>\n",
       "      <th>Actual_Post</th>\n",
       "      <th>Label</th>\n",
       "    </tr>\n",
       "  </thead>\n",
       "  <tbody>\n",
       "    <tr>\n",
       "      <th>0</th>\n",
       "      <td>መንግስት ከልምድ ተመሮ ምንም ጥቅምና አትኩሮት የሌለውን መግለጫ በመግለጫ...</td>\n",
       "      <td>Fake</td>\n",
       "    </tr>\n",
       "    <tr>\n",
       "      <th>1</th>\n",
       "      <td>ወይ ጉድ! ስለ ዜግነት በቅጡ ሳይረዱ ዜግነት ሰጪና ከልካይ የፖለቲካ መሪ...</td>\n",
       "      <td>Fake</td>\n",
       "    </tr>\n",
       "    <tr>\n",
       "      <th>2</th>\n",
       "      <td>አብሮነት በመከባበር ላይ የተመሰረተ መሆን አለበት። ኦሮሚያ ውስጥ የምትኖ...</td>\n",
       "      <td>Fake</td>\n",
       "    </tr>\n",
       "    <tr>\n",
       "      <th>3</th>\n",
       "      <td>እንኳን አሁን ወያኔም እያለ የህዝቦች ሁሉ ጠላት ነፍጠኛዉ ነው ብዬ ነበር...</td>\n",
       "      <td>Fake</td>\n",
       "    </tr>\n",
       "    <tr>\n",
       "      <th>4</th>\n",
       "      <td>እንደዚህ እንደዚያ የሚያረጉን \"ኃይሎች\" እያሉ መንግስት ነን ባዮች ችግሮ...</td>\n",
       "      <td>Fake</td>\n",
       "    </tr>\n",
       "    <tr>\n",
       "      <th>5</th>\n",
       "      <td>እሺ ሰላማዊና ሚዘናዊ ዉይይታችንን ስንቀጥል፡ እዉነት እነዚህ የዜግነት ፖ...</td>\n",
       "      <td>Fake</td>\n",
       "    </tr>\n",
       "    <tr>\n",
       "      <th>6</th>\n",
       "      <td>የአማራ ድርጅቶች አብሮ ለመስራት መግባባታቸው ለበጎ ከሆነ እሰየው ነዉ። ...</td>\n",
       "      <td>Fake</td>\n",
       "    </tr>\n",
       "    <tr>\n",
       "      <th>7</th>\n",
       "      <td>እስኪ እንደው እንኹዋን #OMN ቀርቶ ለሰው ልጆች ሰላም፡ ፍትህና እኩልነ...</td>\n",
       "      <td>Fake</td>\n",
       "    </tr>\n",
       "    <tr>\n",
       "      <th>8</th>\n",
       "      <td>አይ አብይ አህመድ! መቸም ያንተን ታሪክ በቅርቡ እናያለን። በዓመታት የኦ...</td>\n",
       "      <td>Fake</td>\n",
       "    </tr>\n",
       "    <tr>\n",
       "      <th>9</th>\n",
       "      <td>ጊዜ የማይለዉጣቹ ሞኞች፡ አላዋቂዎችና አስመሳዮች (ለምሳሌ ዋናወቹ ታማኝና...</td>\n",
       "      <td>Fake</td>\n",
       "    </tr>\n",
       "  </tbody>\n",
       "</table>\n",
       "</div>"
      ],
      "text/plain": [
       "                                         Actual_Post Label\n",
       "0  መንግስት ከልምድ ተመሮ ምንም ጥቅምና አትኩሮት የሌለውን መግለጫ በመግለጫ...  Fake\n",
       "1  ወይ ጉድ! ስለ ዜግነት በቅጡ ሳይረዱ ዜግነት ሰጪና ከልካይ የፖለቲካ መሪ...  Fake\n",
       "2  አብሮነት በመከባበር ላይ የተመሰረተ መሆን አለበት። ኦሮሚያ ውስጥ የምትኖ...  Fake\n",
       "3  እንኳን አሁን ወያኔም እያለ የህዝቦች ሁሉ ጠላት ነፍጠኛዉ ነው ብዬ ነበር...  Fake\n",
       "4  እንደዚህ እንደዚያ የሚያረጉን \"ኃይሎች\" እያሉ መንግስት ነን ባዮች ችግሮ...  Fake\n",
       "5  እሺ ሰላማዊና ሚዘናዊ ዉይይታችንን ስንቀጥል፡ እዉነት እነዚህ የዜግነት ፖ...  Fake\n",
       "6  የአማራ ድርጅቶች አብሮ ለመስራት መግባባታቸው ለበጎ ከሆነ እሰየው ነዉ። ...  Fake\n",
       "7  እስኪ እንደው እንኹዋን #OMN ቀርቶ ለሰው ልጆች ሰላም፡ ፍትህና እኩልነ...  Fake\n",
       "8  አይ አብይ አህመድ! መቸም ያንተን ታሪክ በቅርቡ እናያለን። በዓመታት የኦ...  Fake\n",
       "9  ጊዜ የማይለዉጣቹ ሞኞች፡ አላዋቂዎችና አስመሳዮች (ለምሳሌ ዋናወቹ ታማኝና...  Fake"
      ]
     },
     "execution_count": 7,
     "metadata": {},
     "output_type": "execute_result"
    }
   ],
   "source": [
    "data.head(10)"
   ]
  },
  {
   "cell_type": "code",
   "execution_count": 8,
   "metadata": {
    "id": "mHyWpDql0dMR"
   },
   "outputs": [],
   "source": [
    "# Target column is made of string values True/Fake, let's change it to numbers 0/1 (Fake=1) \n",
    "data['Label'] = pd.get_dummies(data.Label)['Fake']"
   ]
  },
  {
   "cell_type": "code",
   "execution_count": 9,
   "metadata": {
    "colab": {
     "base_uri": "https://localhost:8080/",
     "height": 352
    },
    "executionInfo": {
     "elapsed": 501,
     "status": "ok",
     "timestamp": 1673105453249,
     "user": {
      "displayName": "Menbere Hailu",
      "userId": "16825273063750690872"
     },
     "user_tz": 300
    },
    "id": "nMFtvVWYhMLm",
    "outputId": "e0eb20ac-b796-4c1f-f537-8fa1b35c7ae2"
   },
   "outputs": [
    {
     "data": {
      "text/plain": [
       "([<matplotlib.patches.Wedge at 0x2201bd40820>,\n",
       "  <matplotlib.patches.Wedge at 0x2201bd67130>],\n",
       " [Text(-1.19865650779119, 0.05676774022126825, 'Fake'),\n",
       "  Text(1.1986565024762053, -0.05676785244758921, 'Real')],\n",
       " [Text(-0.6992162962115274, 0.033114515129073145, '48.5%'),\n",
       "  Text(0.6992162931111197, -0.03311458059442703, '51.5%')])"
      ]
     },
     "execution_count": 9,
     "metadata": {},
     "output_type": "execute_result"
    },
    {
     "data": {
      "image/png": "[encoded data removed]",
      "text/plain": [
       "<Figure size 640x480 with 1 Axes>"
      ]
     },
     "metadata": {},
     "output_type": "display_data"
    }
   ],
   "source": [
    "# Checking if our data is well balanced\n",
    "label_size = [data['Label'].sum(),len(data['Label'])- data['Label'].sum()]\n",
    "plt.pie(label_size,explode=[0.1,0.1],colors=['firebrick','navy'],startangle=90,shadow=True,labels=['Fake','Real'],autopct='%1.1f%%')"
   ]
  },
  {
   "cell_type": "code",
   "execution_count": 10,
   "metadata": {
    "id": "yl-1u_IA21DV"
   },
   "outputs": [],
   "source": [
    "# Train-Validation-Test set split into 70:15:15 ratio\n",
    "# Train-Temp split\n",
    "train_text, temp_text, train_labels, temp_labels = train_test_split(data['Actual_Post'], data['Label'], \n",
    "                                                                    random_state=2018, \n",
    "                                                                    test_size=0.3, \n",
    "                                                                    stratify=data['Label'])\n",
    "# Validation-Test split\n",
    "val_text, test_text, val_labels, test_labels = train_test_split(temp_text, temp_labels, \n",
    "                                                                random_state=2018, \n",
    "                                                                test_size=0.5, \n",
    "                                                                stratify=temp_labels)"
   ]
  },
  {
   "cell_type": "markdown",
   "metadata": {
    "id": "BR4fugYU3zgg"
   },
   "source": [
    "**AfriBERTa Fine Tunning**"
   ]
  },
  {
   "cell_type": "code",
   "execution_count": 11,
   "metadata": {
    "colab": {
     "base_uri": "https://localhost:8080/"
    },
    "executionInfo": {
     "elapsed": 5810,
     "status": "ok",
     "timestamp": 1673168199524,
     "user": {
      "displayName": "Menbere Hailu",
      "userId": "16825273063750690872"
     },
     "user_tz": 300
    },
    "id": "nnk6R_xZB-xv",
    "outputId": "669568f6-ee6a-41e8-93c4-774307f9e75d"
   },
   "outputs": [],
   "source": [
    "from transformers import XLMRobertaModel, XLMRobertaTokenizer,AutoTokenizer, AutoModelForTokenClassification"
   ]
  },
  {
   "cell_type": "code",
   "execution_count": 12,
   "metadata": {},
   "outputs": [
    {
     "data": {
      "application/vnd.jupyter.widget-view+json": {
       "model_id": "dbff1bfd730440898507f2eaa087724b",
       "version_major": 2,
       "version_minor": 0
      },
      "text/plain": [
       "Downloading:   0%|          | 0.00/615 [00:00<?, ?B/s]"
      ]
     },
     "metadata": {},
     "output_type": "display_data"
    },
    {
     "data": {
      "application/vnd.jupyter.widget-view+json": {
       "model_id": "12f21888208544bba7aeb838096f5ef1",
       "version_major": 2,
       "version_minor": 0
      },
      "text/plain": [
       "Downloading:   0%|          | 0.00/1.12G [00:00<?, ?B/s]"
      ]
     },
     "metadata": {},
     "output_type": "display_data"
    },
    {
     "data": {
      "application/vnd.jupyter.widget-view+json": {
       "model_id": "84d0c42196ac466bb40273af8b8e2c4d",
       "version_major": 2,
       "version_minor": 0
      },
      "text/plain": [
       "Downloading:   0%|          | 0.00/5.07M [00:00<?, ?B/s]"
      ]
     },
     "metadata": {},
     "output_type": "display_data"
    }
   ],
   "source": [
    "# Load BERT model and tokenizer via HuggingFace Transformers\n",
    "bert = XLMRobertaModel.from_pretrained('xlm-roberta-base')\n",
    "tokenizer = XLMRobertaTokenizer.from_pretrained('xlm-roberta-base')\n"
   ]
  },
  {
   "cell_type": "markdown",
   "metadata": {},
   "source": [
    "Tokenize text Data"
   ]
  },
  {
   "cell_type": "code",
   "execution_count": 13,
   "metadata": {},
   "outputs": [
    {
     "data": {
      "text/plain": [
       "Text(0, 0.5, 'Number of texts')"
      ]
     },
     "execution_count": 13,
     "metadata": {},
     "output_type": "execute_result"
    },
    {
     "data": {
      "image/png": "[encoded data removed]",
      "text/plain": [
       "<Figure size 640x480 with 1 Axes>"
      ]
     },
     "metadata": {},
     "output_type": "display_data"
    }
   ],
   "source": [
    "# Plot histogram of the number of words in train data 'title'\n",
    "seq_len = [len(Actual_Post.split()) for Actual_Post in train_text]\n",
    "\n",
    "pd.Series(seq_len).hist(bins = 40,color='firebrick')\n",
    "plt.xlabel('Number of Words')\n",
    "plt.ylabel('Number of texts')"
   ]
  },
  {
   "cell_type": "code",
   "execution_count": 14,
   "metadata": {},
   "outputs": [
    {
     "name": "stderr",
     "output_type": "stream",
     "text": [
      "C:\\Users\\MenbiAmel\\anaconda3\\lib\\site-packages\\transformers\\tokenization_utils_base.py:2137: FutureWarning: The `pad_to_max_length` argument is deprecated and will be removed in a future version, use `padding=True` or `padding='longest'` to pad to the longest sequence in the batch, or use `padding='max_length'` to pad to a max length. In this case, you can give a specific length with `max_length` (e.g. `max_length=45`) or leave max_length to None to pad to the maximal input size of the model (e.g. 512 for Bert).\n",
      "  warnings.warn(\n"
     ]
    }
   ],
   "source": [
    "# Majority of titles above have word length under 15. So, we set max title length as 15\n",
    "MAX_LENGHT = 15\n",
    "# Tokenize and encode sequences in the train set\n",
    "tokens_train = tokenizer.batch_encode_plus(\n",
    "    train_text.tolist(),\n",
    "    max_length = MAX_LENGHT,\n",
    "    pad_to_max_length=True,\n",
    "    truncation=True\n",
    ")\n",
    "# tokenize and encode sequences in the validation set\n",
    "tokens_val = tokenizer.batch_encode_plus(\n",
    "    val_text.tolist(),\n",
    "    max_length = MAX_LENGHT,\n",
    "    pad_to_max_length=True,\n",
    "    truncation=True\n",
    ")\n",
    "# tokenize and encode sequences in the test set\n",
    "tokens_test = tokenizer.batch_encode_plus(\n",
    "    test_text.tolist(),\n",
    "    max_length = MAX_LENGHT,\n",
    "    pad_to_max_length=True,\n",
    "    truncation=True\n",
    ")"
   ]
  },
  {
   "cell_type": "code",
   "execution_count": 15,
   "metadata": {},
   "outputs": [],
   "source": [
    "# Convert lists to tensors\n",
    "train_seq = torch.tensor(tokens_train['input_ids'])\n",
    "train_mask = torch.tensor(tokens_train['attention_mask'])\n",
    "train_y = torch.tensor(train_labels.tolist())\n",
    "\n",
    "val_seq = torch.tensor(tokens_val['input_ids'])\n",
    "val_mask = torch.tensor(tokens_val['attention_mask'])\n",
    "val_y = torch.tensor(val_labels.tolist())\n",
    "\n",
    "test_seq = torch.tensor(tokens_test['input_ids'])\n",
    "test_mask = torch.tensor(tokens_test['attention_mask'])\n",
    "test_y = torch.tensor(test_labels.tolist())"
   ]
  },
  {
   "cell_type": "code",
   "execution_count": 16,
   "metadata": {},
   "outputs": [],
   "source": [
    "# Data Loader structure definition\n",
    "from torch.utils.data import TensorDataset, DataLoader, RandomSampler, SequentialSampler\n",
    "batch_size = 32                                               #define a batch size\n",
    "\n",
    "train_data = TensorDataset(train_seq, train_mask, train_y)    # wrap tensors\n",
    "train_sampler = RandomSampler(train_data)                     # sampler for sampling the data during training\n",
    "train_dataloader = DataLoader(train_data, sampler=train_sampler, batch_size=batch_size)\n",
    "                                                              # dataLoader for train set\n",
    "val_data = TensorDataset(val_seq, val_mask, val_y)            # wrap tensors\n",
    "val_sampler = SequentialSampler(val_data)                     # sampler for sampling the data during training\n",
    "val_dataloader = DataLoader(val_data, sampler = val_sampler, batch_size=batch_size)\n",
    "                                                              # dataLoader for validation set"
   ]
  },
  {
   "cell_type": "code",
   "execution_count": 17,
   "metadata": {},
   "outputs": [],
   "source": [
    "# Freezing the parameters and defining trainable BERT structure\n",
    "for param in bert.parameters():\n",
    "    param.requires_grad = False    # false here means gradient need not be computed"
   ]
  },
  {
   "cell_type": "code",
   "execution_count": 18,
   "metadata": {},
   "outputs": [],
   "source": [
    "class BERT_Arch(nn.Module):\n",
    "    def __init__(self, bert):  \n",
    "      super(BERT_Arch, self).__init__()\n",
    "      self.bert = bert   \n",
    "      self.dropout = nn.Dropout(0.1)            # dropout layer\n",
    "      self.relu =  nn.ReLU()                    # relu activation function\n",
    "      self.fc1 = nn.Linear(768,512)             # dense layer 1\n",
    "      self.fc2 = nn.Linear(512,2)               # dense layer 2 (Output layer)\n",
    "      self.softmax = nn.LogSoftmax(dim=1)       # softmax activation function\n",
    "    def forward(self, sent_id, mask):           # define the forward pass  \n",
    "      cls_hs = self.bert(sent_id, attention_mask=mask)['pooler_output']\n",
    "                                                # pass the inputs to the model\n",
    "      x = self.fc1(cls_hs)\n",
    "      x = self.relu(x)\n",
    "      x = self.dropout(x)\n",
    "      x = self.fc2(x)                           # output layer\n",
    "      x = self.softmax(x)                       # apply softmax activation\n",
    "      return x\n",
    "\n",
    "model = BERT_Arch(bert)\n",
    "# Defining the hyperparameters (optimizer, weights of the classes and the epochs)\n",
    "# Define the optimizer\n",
    "from transformers import AdamW\n",
    "optimizer = AdamW(model.parameters(),\n",
    "                  lr = 1e-5)          # learning rate\n",
    "# Define the loss function\n",
    "cross_entropy  = nn.NLLLoss() \n",
    "# Number of training epochs\n",
    "epochs = 10"
   ]
  },
  {
   "cell_type": "code",
   "execution_count": 19,
   "metadata": {},
   "outputs": [],
   "source": [
    "# Defining training and evaluation functions\n",
    "def train():  \n",
    "  model.train()\n",
    "  total_loss, total_accuracy = 0, 0\n",
    "  \n",
    "  for step,batch in enumerate(train_dataloader):                # iterate over batches\n",
    "    if step % 50 == 0 and not step == 0:                        # progress update after every 50 batches.\n",
    "      print('  Batch {:>5,}  of  {:>5,}.'.format(step, len(train_dataloader)))\n",
    "    batch = [r for r in batch]                                  # push the batch to gpu\n",
    "    sent_id, mask, labels = batch \n",
    "    model.zero_grad()                                           # clear previously calculated gradients\n",
    "    preds = model(sent_id, mask)                                # get model predictions for current batch\n",
    "    loss = cross_entropy(preds, labels)                         # compute loss between actual & predicted values\n",
    "    total_loss = total_loss + loss.item()                       # add on to the total loss\n",
    "    loss.backward()                                             # backward pass to calculate the gradients\n",
    "    torch.nn.utils.clip_grad_norm_(model.parameters(), 1.0)     # clip gradients to 1.0. It helps in preventing exploding gradient problem\n",
    "    optimizer.step()                                            # update parameters\n",
    "    preds=preds.detach().cpu().numpy()                          # model predictions are stored on GPU. So, push it to CPU\n",
    "\n",
    "  avg_loss = total_loss / len(train_dataloader)                 # compute training loss of the epoch  \n",
    "                                                                # reshape predictions in form of (# samples, # classes)\n",
    "  return avg_loss                                 # returns the loss and predictions\n",
    "\n",
    "def evaluate():  \n",
    "  print(\"\\nEvaluating...\")  \n",
    "  model.eval()                                    # Deactivate dropout layers\n",
    "  total_loss, total_accuracy = 0, 0  \n",
    "  for step,batch in enumerate(val_dataloader):    # Iterate over batches  \n",
    "    if step % 50 == 0 and not step == 0:          # Progress update every 50 batches.     \n",
    "                                                  # Calculate elapsed time in minutes.\n",
    "                                                  # Elapsed = format_time(time.time() - t0)\n",
    "      print('  Batch {:>5,}  of  {:>5,}.'.format(step, len(val_dataloader)))\n",
    "                                                  # Report progress\n",
    "    batch = [t for t in batch]                    # Push the batch to GPU\n",
    "    sent_id, mask, labels = batch\n",
    "    with torch.no_grad():                         # Deactivate autograd\n",
    "      preds = model(sent_id, mask)                # Model predictions\n",
    "      loss = cross_entropy(preds,labels)          # Compute the validation loss between actual and predicted values\n",
    "      total_loss = total_loss + loss.item()\n",
    "      preds = preds.detach().cpu().numpy()\n",
    "  avg_loss = total_loss / len(val_dataloader)         # compute the validation loss of the epoch\n",
    "  return avg_loss"
   ]
  },
  {
   "cell_type": "code",
   "execution_count": 20,
   "metadata": {},
   "outputs": [
    {
     "name": "stdout",
     "output_type": "stream",
     "text": [
      "\n",
      " Epoch 1 / 10\n",
      "  Batch    50  of    189.\n",
      "  Batch   100  of    189.\n",
      "  Batch   150  of    189.\n",
      "\n",
      "Evaluating...\n",
      "\n",
      "Training Loss: 0.694\n",
      "Validation Loss: 0.693\n",
      "\n",
      " Epoch 2 / 10\n",
      "  Batch    50  of    189.\n",
      "  Batch   100  of    189.\n",
      "  Batch   150  of    189.\n",
      "\n",
      "Evaluating...\n",
      "\n",
      "Training Loss: 0.692\n",
      "Validation Loss: 0.692\n",
      "\n",
      " Epoch 3 / 10\n",
      "  Batch    50  of    189.\n",
      "  Batch   100  of    189.\n",
      "  Batch   150  of    189.\n",
      "\n",
      "Evaluating...\n",
      "\n",
      "Training Loss: 0.692\n",
      "Validation Loss: 0.692\n",
      "\n",
      " Epoch 4 / 10\n",
      "  Batch    50  of    189.\n",
      "  Batch   100  of    189.\n",
      "  Batch   150  of    189.\n",
      "\n",
      "Evaluating...\n",
      "\n",
      "Training Loss: 0.692\n",
      "Validation Loss: 0.691\n",
      "\n",
      " Epoch 5 / 10\n",
      "  Batch    50  of    189.\n",
      "  Batch   100  of    189.\n",
      "  Batch   150  of    189.\n",
      "\n",
      "Evaluating...\n",
      "\n",
      "Training Loss: 0.692\n",
      "Validation Loss: 0.691\n",
      "\n",
      " Epoch 6 / 10\n",
      "  Batch    50  of    189.\n",
      "  Batch   100  of    189.\n",
      "  Batch   150  of    189.\n",
      "\n",
      "Evaluating...\n",
      "\n",
      "Training Loss: 0.691\n",
      "Validation Loss: 0.692\n",
      "\n",
      " Epoch 7 / 10\n",
      "  Batch    50  of    189.\n",
      "  Batch   100  of    189.\n",
      "  Batch   150  of    189.\n",
      "\n",
      "Evaluating...\n",
      "\n",
      "Training Loss: 0.691\n",
      "Validation Loss: 0.691\n",
      "\n",
      " Epoch 8 / 10\n",
      "  Batch    50  of    189.\n",
      "  Batch   100  of    189.\n",
      "  Batch   150  of    189.\n",
      "\n",
      "Evaluating...\n",
      "\n",
      "Training Loss: 0.690\n",
      "Validation Loss: 0.690\n",
      "\n",
      " Epoch 9 / 10\n",
      "  Batch    50  of    189.\n",
      "  Batch   100  of    189.\n",
      "  Batch   150  of    189.\n",
      "\n",
      "Evaluating...\n",
      "\n",
      "Training Loss: 0.690\n",
      "Validation Loss: 0.689\n",
      "\n",
      " Epoch 10 / 10\n",
      "  Batch    50  of    189.\n",
      "  Batch   100  of    189.\n",
      "  Batch   150  of    189.\n",
      "\n",
      "Evaluating...\n",
      "\n",
      "Training Loss: 0.689\n",
      "Validation Loss: 0.688\n"
     ]
    }
   ],
   "source": [
    "# Train and predict\n",
    "best_valid_loss = float('inf')\n",
    "train_losses=[]                   # empty lists to store training and validation loss of each epoch\n",
    "valid_losses=[]\n",
    "\n",
    "for epoch in range(epochs):     \n",
    "    print('\\n Epoch {:} / {:}'.format(epoch + 1, epochs))     \n",
    "    train_loss = train()                       # train model\n",
    "    valid_loss = evaluate()                    # evaluate model\n",
    "    if valid_loss < best_valid_loss:              # save the best model\n",
    "        best_valid_loss = valid_loss\n",
    "        torch.save(model.state_dict(), 'XML-R new_model_weights.pt')\n",
    "    train_losses.append(train_loss)               # append training and validation loss\n",
    "    valid_losses.append(valid_loss)\n",
    "    \n",
    "    print(f'\\nTraining Loss: {train_loss:.3f}')\n",
    "    print(f'Validation Loss: {valid_loss:.3f}')"
   ]
  },
  {
   "cell_type": "code",
   "execution_count": 21,
   "metadata": {
    "colab": {
     "base_uri": "https://localhost:8080/",
     "height": 324
    },
    "executionInfo": {
     "elapsed": 3449,
     "status": "error",
     "timestamp": 1673170269363,
     "user": {
      "displayName": "Menbere Hailu",
      "userId": "16825273063750690872"
     },
     "user_tz": 300
    },
    "id": "fYix8cT56O8l",
    "outputId": "72c0b1c5-fb90-4217-fd05-b69e8f630298"
   },
   "outputs": [
    {
     "data": {
      "text/plain": [
       "<All keys matched successfully>"
      ]
     },
     "execution_count": 21,
     "metadata": {},
     "output_type": "execute_result"
    }
   ],
   "source": [
    "# load weights of best model\n",
    "path = 'XML-R new_model_weights.pt'\n",
    "model.load_state_dict(torch.load(path))"
   ]
  },
  {
   "cell_type": "code",
   "execution_count": 22,
   "metadata": {},
   "outputs": [
    {
     "name": "stdout",
     "output_type": "stream",
     "text": [
      "              precision    recall  f1-score   support\n",
      "\n",
      "           0       0.57      0.95      0.71       667\n",
      "           1       0.82      0.25      0.39       628\n",
      "\n",
      "    accuracy                           0.61      1295\n",
      "   macro avg       0.69      0.60      0.55      1295\n",
      "weighted avg       0.69      0.61      0.56      1295\n",
      "\n"
     ]
    }
   ],
   "source": [
    "with torch.no_grad():\n",
    "  preds = model(test_seq, test_mask)\n",
    "  preds = preds.detach().cpu().numpy()\n",
    "\n",
    "preds = np.argmax(preds, axis = 1)\n",
    "print(classification_report(test_y, preds))"
   ]
  },
  {
   "cell_type": "code",
   "execution_count": null,
   "metadata": {},
   "outputs": [],
   "source": []
  }
 ],
 "metadata": {
  "colab": {
   "authorship_tag": "ABX9TyN+jHKhfX+RmfDBcRGfaDxm",
   "provenance": []
  },
  "kernelspec": {
   "display_name": "Python 3 (ipykernel)",
   "language": "python",
   "name": "python3"
  },
  "language_info": {
   "codemirror_mode": {
    "name": "ipython",
    "version": 3
   },
   "file_extension": ".py",
   "mimetype": "text/x-python",
   "name": "python",
   "nbconvert_exporter": "python",
   "pygments_lexer": "ipython3",
   "version": "3.9.13"
  }
 },
 "nbformat": 4,
 "nbformat_minor": 1
}
